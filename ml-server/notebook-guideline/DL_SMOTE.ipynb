{
 "cells": [
  {
   "cell_type": "code",
   "execution_count": 1,
   "metadata": {},
   "outputs": [],
   "source": [
    "import numpy as np\n",
    "import pandas as pd\n",
    "import tensorflow as tf\n",
    "from imblearn.over_sampling import SMOTE\n",
    "from sklearn.metrics import classification_report\n",
    "from sklearn.model_selection import train_test_split\n",
    "from sklearn.preprocessing import StandardScaler\n",
    "from tensorflow.keras import layers, models"
   ]
  },
  {
   "cell_type": "code",
   "execution_count": 2,
   "metadata": {},
   "outputs": [
    {
     "name": "stdout",
     "output_type": "stream",
     "text": [
      "X shape: (500000, 20)\n",
      "y shape: (500000,)\n"
     ]
    }
   ],
   "source": [
    "\n",
    "# สร้างข้อมูลตัวอย่าง (หรือโหลด dataset ของคุณ)\n",
    "# ในตัวอย่างนี้ จะสร้าง dataset แบบจำลองขึ้นมา\n",
    "# X, y = np.random.rand(1000, 10), np.random.randint(0, 2, size=(1000,))\n",
    "\n",
    "df = pd.read_csv(\"data/fictitious_payments_txn_dataset(in).csv\")\n",
    "\n",
    "# Preprocess dataset\n",
    "X = df[\n",
    "    [\n",
    "        \"sending_bank\",\n",
    "        \"sending_account_number\",\n",
    "        \"receiving_bank\",\n",
    "        \"receiving_account_number\",\n",
    "        \"merchant_channel\",\n",
    "        \"payment_type\",\n",
    "        \"amount\",\n",
    "    ]\n",
    "]\n",
    "y = df[\"fraud\"]\n",
    "\n",
    "# Apply Label Encoding to the 'merchant_channel' column\n",
    "# X[\"merchant_channel\"] = le.fit_transform(X[\"merchant_channel\"])\n",
    "\n",
    "# Change categorical features to dummy variables\n",
    "X = pd.get_dummies(X, columns=[\"merchant_channel\"])\n",
    "\n",
    "print(\"X shape:\", X.shape)\n",
    "print(\"y shape:\", y.shape)"
   ]
  },
  {
   "cell_type": "code",
   "execution_count": 3,
   "metadata": {},
   "outputs": [
    {
     "name": "stderr",
     "output_type": "stream",
     "text": [
      "d:\\Project\\deep\\.venv\\Lib\\site-packages\\keras\\src\\layers\\core\\input_layer.py:26: UserWarning: Argument `input_shape` is deprecated. Use `shape` instead.\n",
      "  warnings.warn(\n"
     ]
    }
   ],
   "source": [
    "# แบ่งข้อมูลเป็น training และ test sets\n",
    "X_train, X_test, y_train, y_test = train_test_split(\n",
    "    X, y, test_size=0.2, random_state=42\n",
    ")\n",
    "\n",
    "# ทำการ scale ข้อมูลด้วย StandardScaler\n",
    "scaler = StandardScaler()\n",
    "X_train_scaled = scaler.fit_transform(X_train)\n",
    "X_test_scaled = scaler.transform(X_test)\n",
    "\n",
    "# Apply SMOTE for oversampling\n",
    "sm = SMOTE(random_state=42)\n",
    "X_sm, y_sm = sm.fit_resample(X_train_scaled, y_train)\n",
    "\n",
    "# สร้างโมเดล Neural Network\n",
    "model = models.Sequential(\n",
    "    [\n",
    "        layers.InputLayer(input_shape=(X_train.shape[1],)),\n",
    "        layers.Dense(64, activation=\"relu\"),\n",
    "        layers.Dense(32, activation=\"relu\"),\n",
    "        layers.Dense(1, activation=\"sigmoid\"),  # ใช้ sigmoid สำหรับ binary classification\n",
    "    ]\n",
    ")\n"
   ]
  },
  {
   "cell_type": "code",
   "execution_count": 4,
   "metadata": {},
   "outputs": [
    {
     "name": "stdout",
     "output_type": "stream",
     "text": [
      "Epoch 1/10\n",
      "\u001b[1m19990/19990\u001b[0m \u001b[32m━━━━━━━━━━━━━━━━━━━━\u001b[0m\u001b[37m\u001b[0m \u001b[1m32s\u001b[0m 2ms/step - accuracy: 0.9081 - loss: 0.2168 - val_accuracy: 0.9865 - val_loss: 0.0829\n",
      "Epoch 2/10\n",
      "\u001b[1m19990/19990\u001b[0m \u001b[32m━━━━━━━━━━━━━━━━━━━━\u001b[0m\u001b[37m\u001b[0m \u001b[1m27s\u001b[0m 1ms/step - accuracy: 0.9733 - loss: 0.0807 - val_accuracy: 0.9856 - val_loss: 0.0614\n",
      "Epoch 3/10\n",
      "\u001b[1m19990/19990\u001b[0m \u001b[32m━━━━━━━━━━━━━━━━━━━━\u001b[0m\u001b[37m\u001b[0m \u001b[1m24s\u001b[0m 1ms/step - accuracy: 0.9799 - loss: 0.0629 - val_accuracy: 0.9857 - val_loss: 0.0638\n",
      "Epoch 4/10\n",
      "\u001b[1m19990/19990\u001b[0m \u001b[32m━━━━━━━━━━━━━━━━━━━━\u001b[0m\u001b[37m\u001b[0m \u001b[1m29s\u001b[0m 1ms/step - accuracy: 0.9821 - loss: 0.0572 - val_accuracy: 0.9905 - val_loss: 0.0500\n",
      "Epoch 5/10\n",
      "\u001b[1m19990/19990\u001b[0m \u001b[32m━━━━━━━━━━━━━━━━━━━━\u001b[0m\u001b[37m\u001b[0m \u001b[1m21s\u001b[0m 1ms/step - accuracy: 0.9841 - loss: 0.0516 - val_accuracy: 0.9987 - val_loss: 0.0178\n",
      "Epoch 6/10\n",
      "\u001b[1m19990/19990\u001b[0m \u001b[32m━━━━━━━━━━━━━━━━━━━━\u001b[0m\u001b[37m\u001b[0m \u001b[1m27s\u001b[0m 1ms/step - accuracy: 0.9860 - loss: 0.0467 - val_accuracy: 0.9922 - val_loss: 0.0386\n",
      "Epoch 7/10\n",
      "\u001b[1m19990/19990\u001b[0m \u001b[32m━━━━━━━━━━━━━━━━━━━━\u001b[0m\u001b[37m\u001b[0m \u001b[1m21s\u001b[0m 1ms/step - accuracy: 0.9867 - loss: 0.0444 - val_accuracy: 0.9977 - val_loss: 0.0188\n",
      "Epoch 8/10\n",
      "\u001b[1m19990/19990\u001b[0m \u001b[32m━━━━━━━━━━━━━━━━━━━━\u001b[0m\u001b[37m\u001b[0m \u001b[1m29s\u001b[0m 1ms/step - accuracy: 0.9877 - loss: 0.0414 - val_accuracy: 0.9640 - val_loss: 0.1040\n",
      "Epoch 9/10\n",
      "\u001b[1m19990/19990\u001b[0m \u001b[32m━━━━━━━━━━━━━━━━━━━━\u001b[0m\u001b[37m\u001b[0m \u001b[1m18s\u001b[0m 888us/step - accuracy: 0.9884 - loss: 0.0398 - val_accuracy: 0.9890 - val_loss: 0.0358\n",
      "Epoch 10/10\n",
      "\u001b[1m19990/19990\u001b[0m \u001b[32m━━━━━━━━━━━━━━━━━━━━\u001b[0m\u001b[37m\u001b[0m \u001b[1m29s\u001b[0m 1ms/step - accuracy: 0.9890 - loss: 0.0382 - val_accuracy: 0.9932 - val_loss: 0.0329\n"
     ]
    }
   ],
   "source": [
    "\n",
    "# คอมไพล์โมเดล\n",
    "model.compile(optimizer=\"adam\", loss=\"binary_crossentropy\", metrics=[\"accuracy\"])\n",
    "\n",
    "# ฝึกสอนโมเดล\n",
    "history = model.fit(X_sm, y_sm, epochs=10, validation_split=0.2)\n"
   ]
  },
  {
   "cell_type": "code",
   "execution_count": 5,
   "metadata": {},
   "outputs": [
    {
     "name": "stdout",
     "output_type": "stream",
     "text": [
      "3125/3125 - 3s - 811us/step - accuracy: 0.9886 - loss: 0.0383\n",
      "\n",
      "Test accuracy: 0.9886\n",
      "\u001b[1m3125/3125\u001b[0m \u001b[32m━━━━━━━━━━━━━━━━━━━━\u001b[0m\u001b[37m\u001b[0m \u001b[1m2s\u001b[0m 550us/step\n",
      "              precision    recall  f1-score   support\n",
      "\n",
      "   Non-Fraud       1.00      0.99      0.99     99950\n",
      "       Fraud       0.00      0.10      0.01        50\n",
      "\n",
      "    accuracy                           0.99    100000\n",
      "   macro avg       0.50      0.54      0.50    100000\n",
      "weighted avg       1.00      0.99      0.99    100000\n",
      "\n"
     ]
    }
   ],
   "source": [
    "# ประเมินผลโมเดล\n",
    "test_loss, test_acc = model.evaluate(X_test_scaled, y_test, verbose=2)\n",
    "print(f\"\\nTest accuracy: {test_acc:.4f}\")\n",
    "\n",
    "# ทำนายผลจากชุดทดสอบ\n",
    "y_pred_prob = model.predict(X_test_scaled)\n",
    "\n",
    "# แปลงค่าพยากรณ์จาก probabilistic (ค่า sigmoid) เป็น binary (0, 1)\n",
    "y_pred = np.where(y_pred_prob > 0.5, 1, 0)\n",
    "\n",
    "# สร้าง classification report\n",
    "report = classification_report(y_test, y_pred, target_names=[\"Non-Fraud\", \"Fraud\"])\n",
    "\n",
    "# แสดง classification report\n",
    "print(report)"
   ]
  }
 ],
 "metadata": {
  "kernelspec": {
   "display_name": ".venv",
   "language": "python",
   "name": "python3"
  },
  "language_info": {
   "codemirror_mode": {
    "name": "ipython",
    "version": 3
   },
   "file_extension": ".py",
   "mimetype": "text/x-python",
   "name": "python",
   "nbconvert_exporter": "python",
   "pygments_lexer": "ipython3",
   "version": "3.11.9"
  }
 },
 "nbformat": 4,
 "nbformat_minor": 2
}
